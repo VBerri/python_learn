{
 "cells": [
  {
   "cell_type": "code",
   "execution_count": 4,
   "id": "ca2c16fd-1a83-45b8-a01a-a5c20824f697",
   "metadata": {},
   "outputs": [
    {
     "name": "stdout",
     "output_type": "stream",
     "text": [
      "They are not anagrams\n"
     ]
    }
   ],
   "source": [
    "def anagramchecker(strin1, strin2):\n",
    "    lst1 = list(strin1)\n",
    "    lst2 = list(strin2)\n",
    "    lst1.sort()\n",
    "    lst2.sort()\n",
    "    if lst1 == lst2:\n",
    "        print(\"They are anagrams\")\n",
    "    else:\n",
    "        print(\"They are not anagrams\")\n",
    "anagramchecker(\"dog\", \"cat\")\n",
    "    "
   ]
  },
  {
   "cell_type": "code",
   "execution_count": null,
   "id": "febba63f-edea-451a-a4cb-e4bdcdfc2368",
   "metadata": {},
   "outputs": [],
   "source": []
  }
 ],
 "metadata": {
  "kernelspec": {
   "display_name": "Python [conda env:base] *",
   "language": "python",
   "name": "conda-base-py"
  },
  "language_info": {
   "codemirror_mode": {
    "name": "ipython",
    "version": 3
   },
   "file_extension": ".py",
   "mimetype": "text/x-python",
   "name": "python",
   "nbconvert_exporter": "python",
   "pygments_lexer": "ipython3",
   "version": "3.12.7"
  }
 },
 "nbformat": 4,
 "nbformat_minor": 5
}
