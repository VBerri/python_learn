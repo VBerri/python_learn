{
 "cells": [
  {
   "cell_type": "code",
   "execution_count": 39,
   "id": "d673937b-c37e-4f37-b972-e25c1553ed95",
   "metadata": {},
   "outputs": [
    {
     "name": "stdout",
     "output_type": "stream",
     "text": [
      "False\n"
     ]
    }
   ],
   "source": [
    "def samelist(lst):\n",
    "    status = False \n",
    "    for i in range(len(lst) - 1):\n",
    "        if lst[i] == lst[i+1]:\n",
    "            status = True\n",
    "        else:\n",
    "           status = False\n",
    "           break\n",
    "    print(status)\n",
    "samelist([1, 2, 2, 2])        "
   ]
  },
  {
   "cell_type": "code",
   "execution_count": null,
   "id": "f91d951c-721c-4c37-9971-69ea346445d7",
   "metadata": {},
   "outputs": [],
   "source": []
  },
  {
   "cell_type": "code",
   "execution_count": null,
   "id": "9a7e6661-fa23-4a3c-a684-0f2235fcb556",
   "metadata": {},
   "outputs": [],
   "source": []
  },
  {
   "cell_type": "code",
   "execution_count": null,
   "id": "2d03e60b-44a2-4f74-a519-d0909a4ed64b",
   "metadata": {},
   "outputs": [],
   "source": []
  }
 ],
 "metadata": {
  "kernelspec": {
   "display_name": "Python [conda env:base] *",
   "language": "python",
   "name": "conda-base-py"
  },
  "language_info": {
   "codemirror_mode": {
    "name": "ipython",
    "version": 3
   },
   "file_extension": ".py",
   "mimetype": "text/x-python",
   "name": "python",
   "nbconvert_exporter": "python",
   "pygments_lexer": "ipython3",
   "version": "3.12.7"
  }
 },
 "nbformat": 4,
 "nbformat_minor": 5
}
