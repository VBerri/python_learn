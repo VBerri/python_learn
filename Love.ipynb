{
 "cells": [
  {
   "cell_type": "code",
   "execution_count": 9,
   "id": "5081d736-a81b-495c-abc2-56bdd2ed6fc5",
   "metadata": {},
   "outputs": [
    {
     "name": "stdin",
     "output_type": "stream",
     "text": [
      "When should it stop?  7\n"
     ]
    },
    {
     "name": "stdout",
     "output_type": "stream",
     "text": [
      "Loves Me\n",
      "Loves Me Not\n",
      "Loves Me\n",
      "Loves Me Not\n",
      "Loves Me\n",
      "Loves Me Not\n",
      "Loves Me\n"
     ]
    }
   ],
   "source": [
    "def love():\n",
    "    num = int(input(\"When should it stop? \"))\n",
    "    for i in range(num):\n",
    "        if i % 2 == 0:\n",
    "            print(\"Loves Me\")\n",
    "        else:\n",
    "            print(\"Loves Me Not\")\n",
    "love()\n",
    "    \n",
    "   \n",
    "    "
   ]
  },
  {
   "cell_type": "code",
   "execution_count": null,
   "id": "b4105ea3-dce4-4312-abe0-2dd7f8dcc322",
   "metadata": {},
   "outputs": [],
   "source": []
  }
 ],
 "metadata": {
  "kernelspec": {
   "display_name": "Python [conda env:base] *",
   "language": "python",
   "name": "conda-base-py"
  },
  "language_info": {
   "codemirror_mode": {
    "name": "ipython",
    "version": 3
   },
   "file_extension": ".py",
   "mimetype": "text/x-python",
   "name": "python",
   "nbconvert_exporter": "python",
   "pygments_lexer": "ipython3",
   "version": "3.12.7"
  }
 },
 "nbformat": 4,
 "nbformat_minor": 5
}
