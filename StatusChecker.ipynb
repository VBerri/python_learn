{
 "cells": [
  {
   "cell_type": "code",
   "execution_count": 31,
   "id": "45da7539-4236-40be-adde-e61e9403ca75",
   "metadata": {},
   "outputs": [
    {
     "name": "stdout",
     "output_type": "stream",
     "text": [
      "The number of people online are: 2\n"
     ]
    }
   ],
   "source": [
    "def status(dic):\n",
    "  online_checker = 0\n",
    "  for name, status in dic.items():\n",
    "    if status.lower() == \"online\":\n",
    "      online_checker += 1\n",
    "  print(\"The number of people online are:\", online_checker)\n",
    "\n",
    "status({\"Bob\": \"online\", \"Sara\": \"Online\", \"Adam\": \"offline\"}) \n",
    "    "
   ]
  },
  {
   "cell_type": "code",
   "execution_count": null,
   "id": "1f380ace-2b8d-4f6e-a1d9-a04f45c041ea",
   "metadata": {},
   "outputs": [],
   "source": []
  },
  {
   "cell_type": "code",
   "execution_count": null,
   "id": "1eec6874-a551-48f0-93fd-4f0151f3ccd6",
   "metadata": {},
   "outputs": [],
   "source": []
  },
  {
   "cell_type": "code",
   "execution_count": null,
   "id": "e528ce27-a562-43b7-ad7e-a39c44d4d9b7",
   "metadata": {},
   "outputs": [],
   "source": []
  },
  {
   "cell_type": "code",
   "execution_count": null,
   "id": "6a3a9878-6f0e-4a4d-9782-bf09cc2cb5d1",
   "metadata": {},
   "outputs": [],
   "source": []
  },
  {
   "cell_type": "code",
   "execution_count": null,
   "id": "b6145427-ffd8-496a-85df-71105037cb39",
   "metadata": {},
   "outputs": [],
   "source": []
  }
 ],
 "metadata": {
  "kernelspec": {
   "display_name": "Python [conda env:base] *",
   "language": "python",
   "name": "conda-base-py"
  },
  "language_info": {
   "codemirror_mode": {
    "name": "ipython",
    "version": 3
   },
   "file_extension": ".py",
   "mimetype": "text/x-python",
   "name": "python",
   "nbconvert_exporter": "python",
   "pygments_lexer": "ipython3",
   "version": "3.12.7"
  }
 },
 "nbformat": 4,
 "nbformat_minor": 5
}
