{
 "cells": [
  {
   "cell_type": "code",
   "execution_count": 15,
   "id": "fce15ed9-137b-4daf-a964-48534b550361",
   "metadata": {},
   "outputs": [
    {
     "name": "stdout",
     "output_type": "stream",
     "text": [
      "This is a palindrome\n"
     ]
    }
   ],
   "source": [
    "def palindromer(strin):\n",
    "    lst = list(strin)\n",
    "    if lst[0] == lst[-1]:\n",
    "        print(\"This is a palindrome\")\n",
    "    else:\n",
    "        print(\"This is not a palindrome\")\n",
    "palindromer(\"abba\")\n",
    "    "
   ]
  },
  {
   "cell_type": "code",
   "execution_count": null,
   "id": "efa55cf2-ee10-4037-aca3-c2e61f206654",
   "metadata": {},
   "outputs": [],
   "source": []
  },
  {
   "cell_type": "code",
   "execution_count": null,
   "id": "d75fd0f2-b59b-4889-a680-25f553f060b6",
   "metadata": {},
   "outputs": [],
   "source": []
  },
  {
   "cell_type": "code",
   "execution_count": null,
   "id": "f3f4d995-7ee2-4676-a6ac-4ebd642faf26",
   "metadata": {},
   "outputs": [],
   "source": []
  }
 ],
 "metadata": {
  "kernelspec": {
   "display_name": "Python [conda env:base] *",
   "language": "python",
   "name": "conda-base-py"
  },
  "language_info": {
   "codemirror_mode": {
    "name": "ipython",
    "version": 3
   },
   "file_extension": ".py",
   "mimetype": "text/x-python",
   "name": "python",
   "nbconvert_exporter": "python",
   "pygments_lexer": "ipython3",
   "version": "3.12.7"
  }
 },
 "nbformat": 4,
 "nbformat_minor": 5
}
