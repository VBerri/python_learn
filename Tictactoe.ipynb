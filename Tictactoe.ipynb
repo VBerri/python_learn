{
 "cells": [
  {
   "cell_type": "code",
   "execution_count": 2,
   "id": "f5663a7d-c2eb-4ce8-899a-e4079fa9188b",
   "metadata": {},
   "outputs": [
    {
     "name": "stdout",
     "output_type": "stream",
     "text": [
      "(2, 0)\n"
     ]
    }
   ],
   "source": [
    "def tictactoe(strin):\n",
    "    lst = list(strin)\n",
    "    tupler = []\n",
    "    if lst[1] == \"1\":\n",
    "        tupler.append(0)\n",
    "    elif lst[1] == \"2\":\n",
    "        tupler.append(1)\n",
    "    elif lst[1] == \"3\":\n",
    "        tupler.append(2)\n",
    "    else:\n",
    "        print(\"not possible\")\n",
    "    if lst[0] == \"A\":\n",
    "        tupler.append(0)\n",
    "    elif lst[0] == \"B\":\n",
    "        tupler.append(1)\n",
    "    elif lst[0] == \"C\":\n",
    "        tupler.append(2)\n",
    "    else:\n",
    "        print(\"not possible\")\n",
    "    truetuple = tuple(tupler)\n",
    "    print(truetuple)\n",
    "tictactoe(\"A3\")\n",
    "    "
   ]
  },
  {
   "cell_type": "code",
   "execution_count": null,
   "id": "c03d77fb-9478-4837-99eb-8f0b27b46cad",
   "metadata": {},
   "outputs": [],
   "source": []
  }
 ],
 "metadata": {
  "kernelspec": {
   "display_name": "Python [conda env:base] *",
   "language": "python",
   "name": "conda-base-py"
  },
  "language_info": {
   "codemirror_mode": {
    "name": "ipython",
    "version": 3
   },
   "file_extension": ".py",
   "mimetype": "text/x-python",
   "name": "python",
   "nbconvert_exporter": "python",
   "pygments_lexer": "ipython3",
   "version": "3.12.7"
  }
 },
 "nbformat": 4,
 "nbformat_minor": 5
}
