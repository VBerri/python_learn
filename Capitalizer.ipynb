{
 "cells": [
  {
   "cell_type": "code",
   "execution_count": 3,
   "id": "8ec88a9e-52e6-4977-8629-d66b2b2dd556",
   "metadata": {},
   "outputs": [
    {
     "name": "stdin",
     "output_type": "stream",
     "text": [
      "Enter the word:  HeLlO\n"
     ]
    },
    {
     "name": "stdout",
     "output_type": "stream",
     "text": [
      "[0, 2, 4]\n"
     ]
    }
   ],
   "source": [
    "def capitalizer():\n",
    "    word = input(\"Enter the word: \")\n",
    "    lst = []\n",
    "    i = 0\n",
    "    if word.isalpha():\n",
    "        for char in word:\n",
    "            if char.isupper():\n",
    "                lst.append(i)\n",
    "                \n",
    "            i += 1\n",
    "    print(lst)\n",
    "capitalizer()\n",
    "    "
   ]
  },
  {
   "cell_type": "code",
   "execution_count": null,
   "id": "6f3a54a7-82a9-4b8d-8bf3-66e1474594f5",
   "metadata": {},
   "outputs": [],
   "source": []
  }
 ],
 "metadata": {
  "kernelspec": {
   "display_name": "Python [conda env:base] *",
   "language": "python",
   "name": "conda-base-py"
  },
  "language_info": {
   "codemirror_mode": {
    "name": "ipython",
    "version": 3
   },
   "file_extension": ".py",
   "mimetype": "text/x-python",
   "name": "python",
   "nbconvert_exporter": "python",
   "pygments_lexer": "ipython3",
   "version": "3.12.7"
  }
 },
 "nbformat": 4,
 "nbformat_minor": 5
}
