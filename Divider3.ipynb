{
 "cells": [
  {
   "cell_type": "code",
   "execution_count": 8,
   "id": "ffb941d1-4bb9-476b-a3ca-93827b6ed7d1",
   "metadata": {},
   "outputs": [
    {
     "name": "stdin",
     "output_type": "stream",
     "text": [
      "Enter you number:  5\n"
     ]
    },
    {
     "name": "stdout",
     "output_type": "stream",
     "text": [
      "Not Possible\n"
     ]
    }
   ],
   "source": [
    "def divider3():\n",
    "    num = int(input(\"Enter you number: \"))\n",
    "    if num % 3 == 0:\n",
    "        print(\"Possible\")\n",
    "    else:\n",
    "        print(\"Not Possible\")\n",
    "divider3()"
   ]
  },
  {
   "cell_type": "code",
   "execution_count": null,
   "id": "362b8b67-0c5f-4f69-926f-80dc738f6e1a",
   "metadata": {},
   "outputs": [],
   "source": []
  }
 ],
 "metadata": {
  "kernelspec": {
   "display_name": "Python [conda env:base] *",
   "language": "python",
   "name": "conda-base-py"
  },
  "language_info": {
   "codemirror_mode": {
    "name": "ipython",
    "version": 3
   },
   "file_extension": ".py",
   "mimetype": "text/x-python",
   "name": "python",
   "nbconvert_exporter": "python",
   "pygments_lexer": "ipython3",
   "version": "3.12.7"
  }
 },
 "nbformat": 4,
 "nbformat_minor": 5
}
