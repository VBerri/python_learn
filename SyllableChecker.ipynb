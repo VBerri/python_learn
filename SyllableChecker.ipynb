{
 "cells": [
  {
   "cell_type": "code",
   "execution_count": 1,
   "id": "a0bd62c0-c691-405f-a53b-0f20fa9b256a",
   "metadata": {},
   "outputs": [
    {
     "name": "stdout",
     "output_type": "stream",
     "text": [
      "The number of syllables are:  4\n"
     ]
    }
   ],
   "source": [
    "def syllablechecker(strin):\n",
    "    lst = list(strin)\n",
    "    syllables = lst.count(\"-\")\n",
    "    syllables += 1\n",
    "    print(\"The number of syllables are: \", syllables)\n",
    "syllablechecker(\"Ill-ite-rat-e\")"
   ]
  },
  {
   "cell_type": "code",
   "execution_count": null,
   "id": "79b86f1e-a40d-4f16-b4c0-45617c2eb61a",
   "metadata": {},
   "outputs": [],
   "source": []
  }
 ],
 "metadata": {
  "kernelspec": {
   "display_name": "Python [conda env:base] *",
   "language": "python",
   "name": "conda-base-py"
  },
  "language_info": {
   "codemirror_mode": {
    "name": "ipython",
    "version": 3
   },
   "file_extension": ".py",
   "mimetype": "text/x-python",
   "name": "python",
   "nbconvert_exporter": "python",
   "pygments_lexer": "ipython3",
   "version": "3.12.7"
  }
 },
 "nbformat": 4,
 "nbformat_minor": 5
}
