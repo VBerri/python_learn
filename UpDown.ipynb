{
 "cells": [
  {
   "cell_type": "code",
   "execution_count": 1,
   "id": "b9fa1907-c7d6-4f3a-95ab-90b4c6c05351",
   "metadata": {},
   "outputs": [
    {
     "name": "stdin",
     "output_type": "stream",
     "text": [
      "Enter the number 5\n"
     ]
    },
    {
     "name": "stdout",
     "output_type": "stream",
     "text": [
      "(4, 6)\n"
     ]
    }
   ],
   "source": [
    "def updown():\n",
    "    ans = int(input(\"Enter the number\"))\n",
    "    lst = []\n",
    "    up = ans + 1\n",
    "    down = ans - 1\n",
    "    lst.append(down)\n",
    "    lst.append(up)\n",
    "    tupler = tuple(lst)\n",
    "    print(tupler)\n",
    "updown()\n"
   ]
  },
  {
   "cell_type": "code",
   "execution_count": null,
   "id": "c1e75a39-2171-457c-800f-2b8cdf98e8e5",
   "metadata": {},
   "outputs": [],
   "source": []
  }
 ],
 "metadata": {
  "kernelspec": {
   "display_name": "Python [conda env:base] *",
   "language": "python",
   "name": "conda-base-py"
  },
  "language_info": {
   "codemirror_mode": {
    "name": "ipython",
    "version": 3
   },
   "file_extension": ".py",
   "mimetype": "text/x-python",
   "name": "python",
   "nbconvert_exporter": "python",
   "pygments_lexer": "ipython3",
   "version": "3.12.7"
  }
 },
 "nbformat": 4,
 "nbformat_minor": 5
}
