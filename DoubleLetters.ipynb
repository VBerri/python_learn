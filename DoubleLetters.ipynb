{
 "cells": [
  {
   "cell_type": "code",
   "execution_count": 5,
   "id": "3537e073-a913-46f1-9bc9-68d161e28bc4",
   "metadata": {},
   "outputs": [
    {
     "name": "stdout",
     "output_type": "stream",
     "text": [
      "This word has two or more duplicate letters\n"
     ]
    }
   ],
   "source": [
    "def doubleletters(string):\n",
    "  d = []  \n",
    "  for char in string:\n",
    "      d.append(char) \n",
    "  if len(d) != len(set(d)):\n",
    "      print(\"This word has two or more duplicate letters\")\n",
    "  else:\n",
    "      print(\"This list does not have duplicate letters\")\n",
    "doubleletters(\"Cattle\")\n",
    "        "
   ]
  },
  {
   "cell_type": "code",
   "execution_count": null,
   "id": "62eb1f65-ad92-4a00-929b-3527c0dcd5b0",
   "metadata": {},
   "outputs": [],
   "source": []
  }
 ],
 "metadata": {
  "kernelspec": {
   "display_name": "Python [conda env:base] *",
   "language": "python",
   "name": "conda-base-py"
  },
  "language_info": {
   "codemirror_mode": {
    "name": "ipython",
    "version": 3
   },
   "file_extension": ".py",
   "mimetype": "text/x-python",
   "name": "python",
   "nbconvert_exporter": "python",
   "pygments_lexer": "ipython3",
   "version": "3.12.7"
  }
 },
 "nbformat": 4,
 "nbformat_minor": 5
}
