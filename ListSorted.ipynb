{
 "cells": [
  {
   "cell_type": "code",
   "execution_count": 42,
   "id": "f52d7ac0-bf70-492d-b3c6-0d4b0cf805a7",
   "metadata": {},
   "outputs": [
    {
     "name": "stdin",
     "output_type": "stream",
     "text": [
      "Enter numbers seperated by spaces either ascending or descending 6 5 4\n"
     ]
    },
    {
     "name": "stdout",
     "output_type": "stream",
     "text": [
      "The list is descending\n"
     ]
    }
   ],
   "source": [
    "def sorter():\n",
    "    lst = list(map(int, input(\"Enter numbers seperated by spaces either ascending or descending\").split()))\n",
    "    ascen = True\n",
    "    descen = True\n",
    "    for i in range(len(lst) - 1):\n",
    "        if lst[i] > lst[i + 1]:\n",
    "            ascen = False\n",
    "        elif lst[i] < lst[i + 1]:\n",
    "            descen = False\n",
    "    if ascen:\n",
    "        print(\"The list is ascending\")\n",
    "    else:\n",
    "        print(\"The list is descending\")\n",
    "sorter()\n",
    "    \n",
    "    \n",
    "\n",
    "        "
   ]
  },
  {
   "cell_type": "code",
   "execution_count": null,
   "id": "43db7728-3be7-44d8-8623-3eceb431dcee",
   "metadata": {},
   "outputs": [],
   "source": []
  },
  {
   "cell_type": "code",
   "execution_count": null,
   "id": "22f56e04-0f3b-4fbb-b3fc-bdb651994ff3",
   "metadata": {},
   "outputs": [],
   "source": []
  },
  {
   "cell_type": "code",
   "execution_count": null,
   "id": "f14b465d-41de-4b65-80b2-15e307d8bf48",
   "metadata": {},
   "outputs": [],
   "source": []
  },
  {
   "cell_type": "code",
   "execution_count": null,
   "id": "d0653ff5-0d1f-42a8-85ff-bcbce732d9ac",
   "metadata": {},
   "outputs": [],
   "source": []
  },
  {
   "cell_type": "code",
   "execution_count": null,
   "id": "9f0b19a3-8ae4-43b8-a7b1-9aec04c7a633",
   "metadata": {},
   "outputs": [],
   "source": []
  },
  {
   "cell_type": "code",
   "execution_count": null,
   "id": "8fd24b7a-748b-4252-81ac-e3c49d0835bb",
   "metadata": {},
   "outputs": [],
   "source": []
  }
 ],
 "metadata": {
  "kernelspec": {
   "display_name": "Python [conda env:base] *",
   "language": "python",
   "name": "conda-base-py"
  },
  "language_info": {
   "codemirror_mode": {
    "name": "ipython",
    "version": 3
   },
   "file_extension": ".py",
   "mimetype": "text/x-python",
   "name": "python",
   "nbconvert_exporter": "python",
   "pygments_lexer": "ipython3",
   "version": "3.12.7"
  }
 },
 "nbformat": 4,
 "nbformat_minor": 5
}
