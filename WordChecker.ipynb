{
 "cells": [
  {
   "cell_type": "code",
   "execution_count": 2,
   "id": "3070ecca-78ce-457a-a4b5-7bd132277358",
   "metadata": {},
   "outputs": [
    {
     "name": "stdout",
     "output_type": "stream",
     "text": [
      "count =  {'a': 2, 'very': 1, 'trainor': 2, 'christmas': 2, 'is': 1, 'album': 1, 'by': 1, 'american': 1, 'singer-songwriter': 1, 'meghan': 1, '(pictured).': 1}\n",
      "{'a': 2, 'trainor': 2, 'christmas': 2}\n"
     ]
    }
   ],
   "source": [
    "def wordchecker(string):\n",
    "    newwords = string.lower().split()\n",
    "    wcount = {}\n",
    "    for word in newwords:\n",
    "        if word in wcount:\n",
    "            wcount[word] += 1\n",
    "        else:\n",
    "            wcount[word] = 1\n",
    "    print(\"count = \", wcount)\n",
    "wordchecker(\"A Very Trainor Christmas is a Christmas album by American singer-songwriter Meghan Trainor (pictured).\")\n",
    "        \n",
    "    \n",
    "    "
   ]
  },
  {
   "cell_type": "code",
   "execution_count": null,
   "id": "fd039cdc-11bc-4821-9bf2-a6350c1ec968",
   "metadata": {},
   "outputs": [],
   "source": []
  },
  {
   "cell_type": "code",
   "execution_count": null,
   "id": "9da57d6b-30e8-472c-878c-359a29cfb791",
   "metadata": {},
   "outputs": [],
   "source": []
  }
 ],
 "metadata": {
  "kernelspec": {
   "display_name": "Python [conda env:base] *",
   "language": "python",
   "name": "conda-base-py"
  },
  "language_info": {
   "codemirror_mode": {
    "name": "ipython",
    "version": 3
   },
   "file_extension": ".py",
   "mimetype": "text/x-python",
   "name": "python",
   "nbconvert_exporter": "python",
   "pygments_lexer": "ipython3",
   "version": "3.12.7"
  }
 },
 "nbformat": 4,
 "nbformat_minor": 5
}
