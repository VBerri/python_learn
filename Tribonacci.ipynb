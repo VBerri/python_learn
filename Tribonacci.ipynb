{
 "cells": [
  {
   "cell_type": "code",
   "execution_count": 5,
   "id": "d44e5a81-c7f8-4b7a-872a-23873481506c",
   "metadata": {},
   "outputs": [
    {
     "name": "stdin",
     "output_type": "stream",
     "text": [
      "Enter how many numbers in sequence 7\n"
     ]
    },
    {
     "name": "stdout",
     "output_type": "stream",
     "text": [
      "[0, 1, 1, 2, 4, 6, 4, 8, 13, 16]\n"
     ]
    }
   ],
   "source": [
    "def tribonnaci():\n",
    "    num = int(input(\"Enter how many numbers in sequence\"))\n",
    "    lst = [0, 1, 1]\n",
    "    for i in range(num):\n",
    "        lst.append(lst[i] + lst[i - 1] + lst[i - 2] + lst[i - 3])\n",
    "    print(lst)\n",
    "tribonnaci()\n",
    "    "
   ]
  },
  {
   "cell_type": "code",
   "execution_count": null,
   "id": "016d5449-b86e-42ae-ad26-cb3d32341d1f",
   "metadata": {},
   "outputs": [],
   "source": []
  }
 ],
 "metadata": {
  "kernelspec": {
   "display_name": "Python [conda env:base] *",
   "language": "python",
   "name": "conda-base-py"
  },
  "language_info": {
   "codemirror_mode": {
    "name": "ipython",
    "version": 3
   },
   "file_extension": ".py",
   "mimetype": "text/x-python",
   "name": "python",
   "nbconvert_exporter": "python",
   "pygments_lexer": "ipython3",
   "version": "3.12.7"
  }
 },
 "nbformat": 4,
 "nbformat_minor": 5
}
