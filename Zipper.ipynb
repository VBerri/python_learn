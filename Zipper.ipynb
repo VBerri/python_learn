{
 "cells": [
  {
   "cell_type": "code",
   "execution_count": 8,
   "id": "d8308e9b-f165-47df-9c01-33bb27e24061",
   "metadata": {},
   "outputs": [
    {
     "name": "stdout",
     "output_type": "stream",
     "text": [
      "[[1, 4], [2, 5], [3, 6]]\n"
     ]
    }
   ],
   "source": [
    "def zap(lst1, lst2):\n",
    "    lsts = []\n",
    "    for i in range(len(lst1)):\n",
    "        lsts.append([])\n",
    "    for i in range(len(lst1)):\n",
    "        lsts[i].append(lst1[i])\n",
    "        lsts[i].append(lst2[i])\n",
    "    print(lsts)\n",
    "zap([1, 2, 3], [4, 5, 6])\n",
    "        \n",
    "    "
   ]
  },
  {
   "cell_type": "code",
   "execution_count": null,
   "id": "9c78deb7-62df-4a1e-849f-4df751430c25",
   "metadata": {},
   "outputs": [],
   "source": []
  }
 ],
 "metadata": {
  "kernelspec": {
   "display_name": "Python [conda env:base] *",
   "language": "python",
   "name": "conda-base-py"
  },
  "language_info": {
   "codemirror_mode": {
    "name": "ipython",
    "version": 3
   },
   "file_extension": ".py",
   "mimetype": "text/x-python",
   "name": "python",
   "nbconvert_exporter": "python",
   "pygments_lexer": "ipython3",
   "version": "3.12.7"
  }
 },
 "nbformat": 4,
 "nbformat_minor": 5
}
