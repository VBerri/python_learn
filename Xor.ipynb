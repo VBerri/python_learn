{
 "cells": [
  {
   "cell_type": "code",
   "execution_count": 12,
   "id": "1e1cba6b-3b72-4978-8421-fcfbcdb7a9f5",
   "metadata": {},
   "outputs": [
    {
     "name": "stdout",
     "output_type": "stream",
     "text": [
      "Correct\n"
     ]
    }
   ],
   "source": [
    "def xor(inter, lst, lst1):\n",
    "    if inter in lst and inter in lst1:\n",
    "        print(\"not allowed\")\n",
    "    elif inter not in lst and inter not in lst1:\n",
    "        print(\"Not allowed\")\n",
    "    elif inter in lst or inter in lst1:\n",
    "        print(\"Correct\")\n",
    "    else:\n",
    "        print(\"Correct\")\n",
    "xor(1, [1, 2, 3], [4, 2, 3])"
   ]
  },
  {
   "cell_type": "code",
   "execution_count": null,
   "id": "603054b6-75d7-4848-b4ff-093f40986416",
   "metadata": {},
   "outputs": [],
   "source": []
  }
 ],
 "metadata": {
  "kernelspec": {
   "display_name": "Python [conda env:base] *",
   "language": "python",
   "name": "conda-base-py"
  },
  "language_info": {
   "codemirror_mode": {
    "name": "ipython",
    "version": 3
   },
   "file_extension": ".py",
   "mimetype": "text/x-python",
   "name": "python",
   "nbconvert_exporter": "python",
   "pygments_lexer": "ipython3",
   "version": "3.12.7"
  }
 },
 "nbformat": 4,
 "nbformat_minor": 5
}
