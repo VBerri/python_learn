{
 "cells": [
  {
   "cell_type": "code",
   "execution_count": 17,
   "id": "0ca2e950-9a52-4210-9da5-9a23e088c168",
   "metadata": {},
   "outputs": [
    {
     "name": "stdout",
     "output_type": "stream",
     "text": [
      "1,000,000\n",
      "123,456,789\n",
      "0\n"
     ]
    }
   ],
   "source": [
    "def commaplacer(num):\n",
    "    return \"{:,}\".format(num)\n",
    "print(commaplacer(1000000))\n",
    "print(commaplacer(123456789))\n",
    "print(commaplacer(0))\n",
    "                \n",
    "        \n",
    "        \n",
    "        \n",
    "    \n",
    "    \n"
   ]
  },
  {
   "cell_type": "code",
   "execution_count": null,
   "id": "a52d1e66-b01b-4b8c-bc49-4b65cee5ee56",
   "metadata": {},
   "outputs": [],
   "source": []
  },
  {
   "cell_type": "code",
   "execution_count": null,
   "id": "e2f68525-9dc5-44a0-af4a-7d581c61bcdc",
   "metadata": {},
   "outputs": [],
   "source": []
  }
 ],
 "metadata": {
  "kernelspec": {
   "display_name": "Python [conda env:base] *",
   "language": "python",
   "name": "conda-base-py"
  },
  "language_info": {
   "codemirror_mode": {
    "name": "ipython",
    "version": 3
   },
   "file_extension": ".py",
   "mimetype": "text/x-python",
   "name": "python",
   "nbconvert_exporter": "python",
   "pygments_lexer": "ipython3",
   "version": "3.12.7"
  }
 },
 "nbformat": 4,
 "nbformat_minor": 5
}
