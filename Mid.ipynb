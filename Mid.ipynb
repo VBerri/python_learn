{
 "cells": [
  {
   "cell_type": "code",
   "execution_count": 4,
   "id": "3d29676f-4aad-4dfb-86d5-314651eaa062",
   "metadata": {},
   "outputs": [
    {
     "name": "stdin",
     "output_type": "stream",
     "text": [
      "enter set of characters or word here:  hello\n"
     ]
    },
    {
     "name": "stdout",
     "output_type": "stream",
     "text": [
      "l\n"
     ]
    }
   ],
   "source": [
    "def mid():\n",
    "    word = input(\"enter set of characters or word here: \")\n",
    "    if word.isalpha():\n",
    "        wordlist = list(word)\n",
    "        if len(wordlist) % 2 == 1:\n",
    "            while len(wordlist) != 1:\n",
    "                wordlist.pop(0)\n",
    "                wordlist.pop(-1)\n",
    "            midlet = \"\".join(wordlist)\n",
    "            print(midlet)\n",
    "        else:\n",
    "            print(\"\")\n",
    "mid()"
   ]
  },
  {
   "cell_type": "code",
   "execution_count": null,
   "id": "89febb90-23d2-4b37-b37b-c06089e19df7",
   "metadata": {},
   "outputs": [],
   "source": []
  },
  {
   "cell_type": "code",
   "execution_count": null,
   "id": "94d2ecef-123f-4290-9ade-c5c960e541b4",
   "metadata": {},
   "outputs": [],
   "source": []
  }
 ],
 "metadata": {
  "kernelspec": {
   "display_name": "Python [conda env:base] *",
   "language": "python",
   "name": "conda-base-py"
  },
  "language_info": {
   "codemirror_mode": {
    "name": "ipython",
    "version": 3
   },
   "file_extension": ".py",
   "mimetype": "text/x-python",
   "name": "python",
   "nbconvert_exporter": "python",
   "pygments_lexer": "ipython3",
   "version": "3.12.7"
  }
 },
 "nbformat": 4,
 "nbformat_minor": 5
}
