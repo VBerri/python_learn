{
 "cells": [
  {
   "cell_type": "code",
   "execution_count": 25,
   "id": "1409b5fa-0d43-479d-8e4e-4b3da090cb42",
   "metadata": {},
   "outputs": [
    {
     "name": "stdout",
     "output_type": "stream",
     "text": [
      "sPoNgEcAsE\n"
     ]
    }
   ],
   "source": [
    "def sponcas():\n",
    "    word = \"SpongeCase\"\n",
    "    answer = []\n",
    "    i = 0\n",
    "    for char in word:\n",
    "        if i % 2 == 0:\n",
    "            answer.append(char.lower())\n",
    "        else:\n",
    "            answer.append(char.upper())\n",
    "        i += 1\n",
    "    spony = \"\".join(answer)\n",
    "    print(spony)\n",
    "sponcas()\n",
    "    \n",
    "        "
   ]
  },
  {
   "cell_type": "code",
   "execution_count": null,
   "id": "ee273992-b540-4588-b951-e93b1fc32e9f",
   "metadata": {},
   "outputs": [],
   "source": []
  },
  {
   "cell_type": "code",
   "execution_count": null,
   "id": "3ac7fe2b-eb62-4876-8c7f-286106506f7d",
   "metadata": {},
   "outputs": [],
   "source": []
  },
  {
   "cell_type": "code",
   "execution_count": null,
   "id": "57e1e7c5-5787-4ece-a95a-acfe807c33c0",
   "metadata": {},
   "outputs": [],
   "source": []
  }
 ],
 "metadata": {
  "kernelspec": {
   "display_name": "Python [conda env:base] *",
   "language": "python",
   "name": "conda-base-py"
  },
  "language_info": {
   "codemirror_mode": {
    "name": "ipython",
    "version": 3
   },
   "file_extension": ".py",
   "mimetype": "text/x-python",
   "name": "python",
   "nbconvert_exporter": "python",
   "pygments_lexer": "ipython3",
   "version": "3.12.7"
  }
 },
 "nbformat": 4,
 "nbformat_minor": 5
}
