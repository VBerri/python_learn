{
 "cells": [
  {
   "cell_type": "code",
   "execution_count": 5,
   "id": "5081d736-a81b-495c-abc2-56bdd2ed6fc5",
   "metadata": {},
   "outputs": [
    {
     "name": "stdin",
     "output_type": "stream",
     "text": [
      "Enter a list of numbers seperated by spaces  1 2 3 4 \n"
     ]
    },
    {
     "name": "stdout",
     "output_type": "stream",
     "text": [
      "Not Dividable\n"
     ]
    }
   ],
   "source": [
    "def summative():\n",
    "    numbers = list(map(int, input(\"Enter a list of numbers seperated by spaces \").split()))\n",
    "    add = 0\n",
    "    mult = 1\n",
    "    for num in numbers:\n",
    "        add += num\n",
    "        mult *= num\n",
    "    if mult % add == 0:\n",
    "        print(\"Dividable\")\n",
    "    else: \n",
    "        print(\"Not Dividable\")\n",
    "summative()\n",
    "    "
   ]
  },
  {
   "cell_type": "code",
   "execution_count": null,
   "id": "b4105ea3-dce4-4312-abe0-2dd7f8dcc322",
   "metadata": {},
   "outputs": [],
   "source": []
  }
 ],
 "metadata": {
  "kernelspec": {
   "display_name": "Python [conda env:base] *",
   "language": "python",
   "name": "conda-base-py"
  },
  "language_info": {
   "codemirror_mode": {
    "name": "ipython",
    "version": 3
   },
   "file_extension": ".py",
   "mimetype": "text/x-python",
   "name": "python",
   "nbconvert_exporter": "python",
   "pygments_lexer": "ipython3",
   "version": "3.12.7"
  }
 },
 "nbformat": 4,
 "nbformat_minor": 5
}
