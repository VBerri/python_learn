{
 "cells": [
  {
   "cell_type": "code",
   "execution_count": 40,
   "id": "70018eb9-c3d9-4f35-a1fb-be1ede1289b4",
   "metadata": {},
   "outputs": [
    {
     "name": "stdin",
     "output_type": "stream",
     "text": [
      "What is your starting salary?  80000\n",
      "Enter the percent that you want to save (as a percentage):  10\n",
      "Enter your semi-annual raise (as a percentage):  3\n",
      "What is the current cost of your dream house?  800000\n"
     ]
    },
    {
     "name": "stdout",
     "output_type": "stream",
     "text": [
      "The number of months needed for down payment =  158\n"
     ]
    }
   ],
   "source": [
    "starting_salary = int(input(\"What is your starting salary? \"))\n",
    "portion_saved = float(input(\"Enter the percent that you want to save (as a percentage): \"))\n",
    "semiannual_raise = float(input(\"Enter your semi-annual raise (as a percentage): \"))\n",
    "total_cost = int(input(\"What is the current cost of your dream house? \"))\n",
    "portion_down_payment = 0.25\n",
    "current_savings = 0\n",
    "port_save = portion_saved / 100\n",
    "sem_raise = semiannual_raise / 100\n",
    "down_payment = portion_down_payment * total_cost\n",
    "months = 0\n",
    "monthly_salary = starting_salary / 12\n",
    "\n",
    "while current_savings < down_payment:  \n",
    "    months += 1\n",
    "    current_savings += (monthly_salary * port_save)  # Accumulate savings\n",
    "    investments = current_savings * 0.04 / 12  # Monthly investment return\n",
    "    current_savings += investments  # Add investment returns to current savings\n",
    "    \n",
    "    # Update salary every 6 months\n",
    "    if months % 6 == 0:\n",
    "        starting_salary += starting_salary * sem_raise  # Apply semiannual raise\n",
    "        monthly_salary = starting_salary / 12  # Update monthly salary\n",
    "\n",
    "print(\"The number of months needed for down payment = \", months)"
   ]
  },
  {
   "cell_type": "markdown",
   "id": "977b31f4-501f-4ce8-904b-291a69a73341",
   "metadata": {},
   "source": [
    "# User\n",
    "debug the code segment"
   ]
  },
  {
   "cell_type": "markdown",
   "id": "9d465c80-b636-45af-859a-da5a22ff5fc9",
   "metadata": {},
   "source": []
  },
  {
   "cell_type": "code",
   "execution_count": 44,
   "id": "88d762c8-7d3a-4596-8947-0a1ca9e7f108",
   "metadata": {},
   "outputs": [],
   "source": [
    "!cd C:/Me/python_learn"
   ]
  },
  {
   "cell_type": "code",
   "execution_count": 50,
   "id": "71217c24-abd6-4921-9551-0656c79b3519",
   "metadata": {},
   "outputs": [
    {
     "name": "stderr",
     "output_type": "stream",
     "text": [
      "warning: in the working copy of 'MIT_Assignment_1.ipynb', LF will be replaced by CRLF the next time Git touches it\n"
     ]
    }
   ],
   "source": [
    "!git add MIT_Assignment_1.ipynb"
   ]
  },
  {
   "cell_type": "code",
   "execution_count": 54,
   "id": "90a09395-69f0-47f8-9258-8dbfd0644d79",
   "metadata": {},
   "outputs": [
    {
     "name": "stdout",
     "output_type": "stream",
     "text": [
      "[main 7339473] Part B Done\n",
      " 1 file changed, 175 insertions(+)\n",
      " create mode 100644 MIT_Assignment_1.ipynb\n"
     ]
    }
   ],
   "source": [
    "!git commit -m \"Part B Done\""
   ]
  },
  {
   "cell_type": "code",
   "execution_count": 56,
   "id": "3009d1b9-fc15-43e8-b7da-4c6bff6d1ab1",
   "metadata": {},
   "outputs": [
    {
     "name": "stderr",
     "output_type": "stream",
     "text": [
      "To https://github.com/VBerri/python_learn.git\n",
      "   675caee..7339473  main -> main\n"
     ]
    }
   ],
   "source": [
    "!git push origin main"
   ]
  },
  {
   "cell_type": "code",
   "execution_count": null,
   "id": "78dfa540-c687-43d2-88b0-7d1d9a951499",
   "metadata": {},
   "outputs": [],
   "source": []
  },
  {
   "cell_type": "code",
   "execution_count": null,
   "id": "0a981d49-dc2b-4673-af80-e6713e564882",
   "metadata": {},
   "outputs": [],
   "source": []
  },
  {
   "cell_type": "code",
   "execution_count": null,
   "id": "9340d369-27a9-4f3a-878c-3f3342d6d587",
   "metadata": {},
   "outputs": [],
   "source": []
  },
  {
   "cell_type": "code",
   "execution_count": null,
   "id": "5c047caf-21ad-4069-b381-fccf2b7d55e9",
   "metadata": {},
   "outputs": [],
   "source": []
  },
  {
   "cell_type": "code",
   "execution_count": null,
   "id": "a0358602-ce0b-488f-a276-6b3a07466bd8",
   "metadata": {},
   "outputs": [],
   "source": []
  }
 ],
 "metadata": {
  "kernelspec": {
   "display_name": "Python [conda env:base] *",
   "language": "python",
   "name": "conda-base-py"
  },
  "language_info": {
   "codemirror_mode": {
    "name": "ipython",
    "version": 3
   },
   "file_extension": ".py",
   "mimetype": "text/x-python",
   "name": "python",
   "nbconvert_exporter": "python",
   "pygments_lexer": "ipython3",
   "version": "3.12.7"
  }
 },
 "nbformat": 4,
 "nbformat_minor": 5
}
