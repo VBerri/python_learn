{
 "cells": [
  {
   "cell_type": "code",
   "execution_count": 40,
   "id": "3cf1a461-f603-433e-9767-8426d05c984f",
   "metadata": {},
   "outputs": [
    {
     "name": "stdout",
     "output_type": "stream",
     "text": [
      "d.o.g\n"
     ]
    }
   ],
   "source": [
    "def dotsadder(strin):\n",
    "    o = 0\n",
    "    lst = list(strin)\n",
    "    for element in lst:\n",
    "        if o % 2 == 1:\n",
    "            lst.insert(o, \".\")\n",
    "        o += 1\n",
    "    lstjoined = \"\".join(lst)\n",
    "    print(lstjoined)\n",
    "    \n",
    "    \n",
    "\n",
    "\n",
    "\n",
    "    \n",
    "\n",
    "    \n",
    "    "
   ]
  },
  {
   "cell_type": "code",
   "execution_count": null,
   "id": "37cc92fb-8198-4905-99e8-6cb9b134f164",
   "metadata": {},
   "outputs": [],
   "source": []
  },
  {
   "cell_type": "code",
   "execution_count": null,
   "id": "281f0c10-d618-4c14-975e-81c4ae93caa2",
   "metadata": {},
   "outputs": [],
   "source": []
  }
 ],
 "metadata": {
  "kernelspec": {
   "display_name": "Python [conda env:base] *",
   "language": "python",
   "name": "conda-base-py"
  },
  "language_info": {
   "codemirror_mode": {
    "name": "ipython",
    "version": 3
   },
   "file_extension": ".py",
   "mimetype": "text/x-python",
   "name": "python",
   "nbconvert_exporter": "python",
   "pygments_lexer": "ipython3",
   "version": "3.12.7"
  }
 },
 "nbformat": 4,
 "nbformat_minor": 5
}
