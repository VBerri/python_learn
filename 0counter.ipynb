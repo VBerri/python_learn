{
 "cells": [
  {
   "cell_type": "code",
   "execution_count": null,
   "id": "30f34a10-b447-4f19-b261-8675bdf7c67d",
   "metadata": {},
   "outputs": [],
   "source": [
    "def consec(num):\n",
    "    o = 0\n",
    "    lst = []   \n",
    "    for char in num:\n",
    "        if char == '0':\n",
    "            o += 1\n",
    "        else:\n",
    "            lst.append(o)\n",
    "            o = 0 \n",
    "    lst.append(o)\n",
    "    lst.sort()  \n",
    "    print(\"The largest amount of consecutive 0s =\", lst[-1])\n",
    "consec(\"1001000101\")\n",
    "    \n",
    "\n",
    "   \n",
    "\n",
    "    \n",
    "    "
   ]
  },
  {
   "cell_type": "code",
   "execution_count": null,
   "id": "04240840-839d-4292-9e52-2a010c67903c",
   "metadata": {},
   "outputs": [],
   "source": []
  },
  {
   "cell_type": "code",
   "execution_count": null,
   "id": "5a9b13cf-0539-4c7c-b0dd-8786101acbd1",
   "metadata": {},
   "outputs": [],
   "source": []
  },
  {
   "cell_type": "code",
   "execution_count": null,
   "id": "b4c83136-b035-4792-9323-b7f60816fe1d",
   "metadata": {},
   "outputs": [],
   "source": []
  },
  {
   "cell_type": "code",
   "execution_count": null,
   "id": "b16e5f1c-57dd-4c69-9c88-e36bfd2654c9",
   "metadata": {},
   "outputs": [],
   "source": []
  }
 ],
 "metadata": {
  "kernelspec": {
   "display_name": "Python [conda env:base] *",
   "language": "python",
   "name": "conda-base-py"
  },
  "language_info": {
   "codemirror_mode": {
    "name": "ipython",
    "version": 3
   },
   "file_extension": ".py",
   "mimetype": "text/x-python",
   "name": "python",
   "nbconvert_exporter": "python",
   "pygments_lexer": "ipython3",
   "version": "3.12.7"
  }
 },
 "nbformat": 4,
 "nbformat_minor": 5
}
