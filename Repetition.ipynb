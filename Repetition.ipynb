{
 "cells": [
  {
   "cell_type": "code",
   "execution_count": 5,
   "id": "6309b150-9c68-4f3f-805f-f6702afb9249",
   "metadata": {},
   "outputs": [
    {
     "name": "stdin",
     "output_type": "stream",
     "text": [
      "Enter how many times the sequence should repeat 7\n"
     ]
    },
    {
     "name": "stdout",
     "output_type": "stream",
     "text": [
      "Loves me\n",
      "Loves me not\n",
      "Loves me\n",
      "Loves me not\n",
      "Loves me\n",
      "Loves me not\n",
      "Loves me\n"
     ]
    }
   ],
   "source": [
    "def love():\n",
    "    num = int(input(\"Enter how many times the sequence should repeat\"))\n",
    "    for i in range(1, num + 1):\n",
    "        if i % 2 == 0:\n",
    "            print(\"Loves me not\")\n",
    "        else:\n",
    "            print(\"Loves me\")\n",
    "love()"
   ]
  },
  {
   "cell_type": "code",
   "execution_count": null,
   "id": "0bb0b0e1-d080-4050-844a-448bca098fec",
   "metadata": {},
   "outputs": [],
   "source": []
  }
 ],
 "metadata": {
  "kernelspec": {
   "display_name": "Python [conda env:base] *",
   "language": "python",
   "name": "conda-base-py"
  },
  "language_info": {
   "codemirror_mode": {
    "name": "ipython",
    "version": 3
   },
   "file_extension": ".py",
   "mimetype": "text/x-python",
   "name": "python",
   "nbconvert_exporter": "python",
   "pygments_lexer": "ipython3",
   "version": "3.12.7"
  }
 },
 "nbformat": 4,
 "nbformat_minor": 5
}
